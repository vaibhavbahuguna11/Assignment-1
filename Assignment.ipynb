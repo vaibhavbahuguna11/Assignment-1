{
  "nbformat": 4,
  "nbformat_minor": 0,
  "metadata": {
    "colab": {
      "name": "Assignment.ipynb",
      "provenance": [],
      "collapsed_sections": [],
      "include_colab_link": true
    },
    "kernelspec": {
      "name": "python3",
      "display_name": "Python 3"
    },
    "language_info": {
      "name": "python"
    }
  },
  "cells": [
    {
      "cell_type": "markdown",
      "metadata": {
        "id": "view-in-github",
        "colab_type": "text"
      },
      "source": [
        "<a href=\"https://colab.research.google.com/github/vaibhavbahuguna11/Assignment-1/blob/main/Assignment.ipynb\" target=\"_parent\"><img src=\"https://colab.research.google.com/assets/colab-badge.svg\" alt=\"Open In Colab\"/></a>"
      ]
    },
    {
      "cell_type": "markdown",
      "source": [
        "**1. Create a null vector of size 10 but the fifth value which is 1.**"
      ],
      "metadata": {
        "id": "lcN_5dwPH6JQ"
      }
    },
    {
      "cell_type": "code",
      "source": [
        "import numpy as np\n",
        "\n",
        "ary = np.zeros((10))\n",
        "ary[4] = 1\n",
        "\n",
        "print(ary)"
      ],
      "metadata": {
        "colab": {
          "base_uri": "https://localhost:8080/"
        },
        "id": "dDX_QAyGIDz4",
        "outputId": "f1c43361-479e-45cd-eaa7-e1ee43c50f11"
      },
      "execution_count": null,
      "outputs": [
        {
          "output_type": "stream",
          "name": "stdout",
          "text": [
            "[0. 0. 0. 0. 1. 0. 0. 0. 0. 0.]\n"
          ]
        }
      ]
    },
    {
      "cell_type": "markdown",
      "source": [
        "**2. Create a vector with values ranging from 10 to 49.**"
      ],
      "metadata": {
        "id": "AvYespn6IvCK"
      }
    },
    {
      "cell_type": "code",
      "source": [
        "a = np.arange(10,50)\n",
        "print(a)"
      ],
      "metadata": {
        "colab": {
          "base_uri": "https://localhost:8080/"
        },
        "id": "jwVwmKBVI1NS",
        "outputId": "689346a8-40f0-44b4-b622-78ef752ed350"
      },
      "execution_count": null,
      "outputs": [
        {
          "output_type": "stream",
          "name": "stdout",
          "text": [
            "[10 11 12 13 14 15 16 17 18 19 20 21 22 23 24 25 26 27 28 29 30 31 32 33\n",
            " 34 35 36 37 38 39 40 41 42 43 44 45 46 47 48 49]\n"
          ]
        }
      ]
    },
    {
      "cell_type": "markdown",
      "source": [
        "**3. Create a 3x3 matrix with values ranging from 0 to 8d**"
      ],
      "metadata": {
        "id": "QjR4qSbQJFTA"
      }
    },
    {
      "cell_type": "code",
      "source": [
        "b = np.arange(0,9).reshape(3,3)\n",
        "print(b)"
      ],
      "metadata": {
        "colab": {
          "base_uri": "https://localhost:8080/"
        },
        "id": "CUqboSK4JLql",
        "outputId": "a48dc226-a853-4733-84d2-61bf4584aa88"
      },
      "execution_count": null,
      "outputs": [
        {
          "output_type": "stream",
          "name": "stdout",
          "text": [
            "[[0 1 2]\n",
            " [3 4 5]\n",
            " [6 7 8]]\n"
          ]
        }
      ]
    },
    {
      "cell_type": "markdown",
      "source": [
        "**4. Find indices of non-zero elements from [1,2,0,0,4,0]**"
      ],
      "metadata": {
        "id": "3amlCxOHJkRU"
      }
    },
    {
      "cell_type": "code",
      "source": [
        "c = np.array([1,2,0,0,4,0])\n",
        "d = np.nonzero(c)\n",
        "print(f\"The indices of non-zero elements are {d} \")"
      ],
      "metadata": {
        "colab": {
          "base_uri": "https://localhost:8080/"
        },
        "id": "IZUj3FuhJqZc",
        "outputId": "f0699b59-5d57-4830-da16-0f42f09fb096"
      },
      "execution_count": null,
      "outputs": [
        {
          "output_type": "stream",
          "name": "stdout",
          "text": [
            "The indices of non-zero elements are (array([0, 1, 4]),) \n"
          ]
        }
      ]
    },
    {
      "cell_type": "markdown",
      "source": [
        "**5. Create a 10x10 array with random values and find the minimum and maximum values.***"
      ],
      "metadata": {
        "id": "20KsgwSfOl39"
      }
    },
    {
      "cell_type": "code",
      "source": [
        "new_ary = np.random.randn(10,10)\n",
        "print(f\"The 10 X 10 array \\n{new_ary}\")\n",
        "\n",
        "max_val = new_ary.max()\n",
        "min_val = new_ary.min()\n",
        "print(f\"The maximum value is {max_val}\")\n",
        "print(f\"The minimum vallue is {min_val}\")"
      ],
      "metadata": {
        "colab": {
          "base_uri": "https://localhost:8080/"
        },
        "id": "EIdf9IkNOrPF",
        "outputId": "58322199-bbe0-4549-c678-0443147df1ca"
      },
      "execution_count": null,
      "outputs": [
        {
          "output_type": "stream",
          "name": "stdout",
          "text": [
            "The 10 X 10 array \n",
            "[[-0.60029614  0.20687708 -1.20153129 -0.27845478 -1.13011516 -0.20201913\n",
            "   0.53241751 -1.03935838  1.4338923  -0.91238451]\n",
            " [-0.40328869 -0.38981117  0.24633737  0.28498773  0.7025712   0.72119934\n",
            "  -0.05485744  0.0605281   0.17823066 -0.42118407]\n",
            " [-0.55134049 -1.11833994  0.84571516 -0.74967013 -1.27928635 -0.17208718\n",
            "  -1.60045415 -0.71722416  0.14405483 -0.09301244]\n",
            " [-2.27503374 -0.05208431 -0.25936256  0.36751775  0.83740874 -0.98168273\n",
            "   0.72637116 -0.01189588  0.35861261  1.79634908]\n",
            " [ 0.77462715 -2.0804787  -1.6442368  -0.01213797 -0.82243624 -3.06926186\n",
            "   1.1796116  -0.64934041 -1.32246837 -0.87558089]\n",
            " [-1.62171444 -0.43455101 -0.97157751 -0.52525642  0.18374475  1.66082366\n",
            "   0.74057198 -0.79503768  0.58836125  1.29795207]\n",
            " [-0.93514697  0.19168533 -0.96125307 -0.67617893  0.45237513 -0.16190435\n",
            "   0.17677711 -0.65366262  1.60984077 -0.02002504]\n",
            " [ 1.30499229 -0.67048424  1.51047281 -0.29647686 -0.16244016  0.18301794\n",
            "  -0.06530953  0.00726242  1.17201381  0.4559817 ]\n",
            " [ 0.76827041  0.87021574  0.41925854  1.2412681   0.60776724  0.69371235\n",
            "  -0.7108569   0.77704291 -0.10792515 -0.48196606]\n",
            " [-0.27416389  0.77676333  0.71449173  0.04089997  0.99666291  0.32450366\n",
            "   0.40675212  0.02859541  1.02093338  0.78688209]]\n",
            "The maximum value is 1.7963490761938696\n",
            "The minimum vallue is -3.0692618598073516\n"
          ]
        }
      ]
    },
    {
      "cell_type": "markdown",
      "source": [
        "**6. Create a random vector of size 30 and find the mean value**"
      ],
      "metadata": {
        "id": "KTe2ffNaPxHg"
      }
    },
    {
      "cell_type": "code",
      "source": [
        "rand_ary = np.random.random(30)\n",
        "mean_val = rand_ary.mean()\n",
        "print(mean_val)"
      ],
      "metadata": {
        "colab": {
          "base_uri": "https://localhost:8080/"
        },
        "id": "HWwNUlFcP0YA",
        "outputId": "808f4929-5227-4a88-b95a-ffec5df91a07"
      },
      "execution_count": null,
      "outputs": [
        {
          "output_type": "stream",
          "name": "stdout",
          "text": [
            "0.3996376856932038\n"
          ]
        }
      ]
    }
  ]
}